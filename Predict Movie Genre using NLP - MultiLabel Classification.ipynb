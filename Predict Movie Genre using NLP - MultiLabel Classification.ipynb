{
 "cells": [
  {
   "cell_type": "code",
   "execution_count": 100,
   "metadata": {},
   "outputs": [],
   "source": [
    "import pandas as pd\n",
    "import numpy as np\n",
    "import json\n",
    "import nltk\n",
    "from nltk.corpus import stopwords\n",
    "import re\n",
    "import csv\n",
    "import matplotlib.pyplot as plt\n",
    "import seaborn as sns\n",
    "from tqdm import tqdm\n",
    "from sklearn.feature_extraction.text import TfidfVectorizer\n",
    "from sklearn.model_selection import train_test_split\n",
    "%matplotlib inline\n",
    "pd.set_option('display.max_colwidth',300)"
   ]
  },
  {
   "cell_type": "code",
   "execution_count": 8,
   "metadata": {},
   "outputs": [
    {
     "data": {
      "text/html": [
       "<div>\n",
       "<style scoped>\n",
       "    .dataframe tbody tr th:only-of-type {\n",
       "        vertical-align: middle;\n",
       "    }\n",
       "\n",
       "    .dataframe tbody tr th {\n",
       "        vertical-align: top;\n",
       "    }\n",
       "\n",
       "    .dataframe thead th {\n",
       "        text-align: right;\n",
       "    }\n",
       "</style>\n",
       "<table border=\"1\" class=\"dataframe\">\n",
       "  <thead>\n",
       "    <tr style=\"text-align: right;\">\n",
       "      <th></th>\n",
       "      <th>Wikipedia_movie_ID</th>\n",
       "      <th>Freebase_movie_ID</th>\n",
       "      <th>Movie_name</th>\n",
       "      <th>Movie_release_date</th>\n",
       "      <th>Movie_box_office_revenue</th>\n",
       "      <th>Movie_runtime</th>\n",
       "      <th>Movie_languages</th>\n",
       "      <th>Movie_countries</th>\n",
       "      <th>Movie_genres</th>\n",
       "    </tr>\n",
       "  </thead>\n",
       "  <tbody>\n",
       "    <tr>\n",
       "      <th>0</th>\n",
       "      <td>975900</td>\n",
       "      <td>/m/03vyhn</td>\n",
       "      <td>Ghosts of Mars</td>\n",
       "      <td>2001-08-24</td>\n",
       "      <td>14010832.0</td>\n",
       "      <td>98.0</td>\n",
       "      <td>{\"/m/02h40lc\": \"English Language\"}</td>\n",
       "      <td>{\"/m/09c7w0\": \"United States of America\"}</td>\n",
       "      <td>{\"/m/01jfsb\": \"Thriller\", \"/m/06n90\": \"Science Fiction\", \"/m/03npn\": \"Horror\", \"/m/03k9fj\": \"Adventure\", \"/m/0fdjb\": \"Supernatural\", \"/m/02kdv5l\": \"Action\", \"/m/09zvmj\": \"Space western\"}</td>\n",
       "    </tr>\n",
       "    <tr>\n",
       "      <th>1</th>\n",
       "      <td>3196793</td>\n",
       "      <td>/m/08yl5d</td>\n",
       "      <td>Getting Away with Murder: The JonBenét Ramsey Mystery</td>\n",
       "      <td>2000-02-16</td>\n",
       "      <td>NaN</td>\n",
       "      <td>95.0</td>\n",
       "      <td>{\"/m/02h40lc\": \"English Language\"}</td>\n",
       "      <td>{\"/m/09c7w0\": \"United States of America\"}</td>\n",
       "      <td>{\"/m/02n4kr\": \"Mystery\", \"/m/03bxz7\": \"Biographical film\", \"/m/07s9rl0\": \"Drama\", \"/m/0hj3n01\": \"Crime Drama\"}</td>\n",
       "    </tr>\n",
       "    <tr>\n",
       "      <th>2</th>\n",
       "      <td>28463795</td>\n",
       "      <td>/m/0crgdbh</td>\n",
       "      <td>Brun bitter</td>\n",
       "      <td>1988</td>\n",
       "      <td>NaN</td>\n",
       "      <td>83.0</td>\n",
       "      <td>{\"/m/05f_3\": \"Norwegian Language\"}</td>\n",
       "      <td>{\"/m/05b4w\": \"Norway\"}</td>\n",
       "      <td>{\"/m/0lsxr\": \"Crime Fiction\", \"/m/07s9rl0\": \"Drama\"}</td>\n",
       "    </tr>\n",
       "    <tr>\n",
       "      <th>3</th>\n",
       "      <td>9363483</td>\n",
       "      <td>/m/0285_cd</td>\n",
       "      <td>White Of The Eye</td>\n",
       "      <td>1987</td>\n",
       "      <td>NaN</td>\n",
       "      <td>110.0</td>\n",
       "      <td>{\"/m/02h40lc\": \"English Language\"}</td>\n",
       "      <td>{\"/m/07ssc\": \"United Kingdom\"}</td>\n",
       "      <td>{\"/m/01jfsb\": \"Thriller\", \"/m/0glj9q\": \"Erotic thriller\", \"/m/09blyk\": \"Psychological thriller\"}</td>\n",
       "    </tr>\n",
       "    <tr>\n",
       "      <th>4</th>\n",
       "      <td>261236</td>\n",
       "      <td>/m/01mrr1</td>\n",
       "      <td>A Woman in Flames</td>\n",
       "      <td>1983</td>\n",
       "      <td>NaN</td>\n",
       "      <td>106.0</td>\n",
       "      <td>{\"/m/04306rv\": \"German Language\"}</td>\n",
       "      <td>{\"/m/0345h\": \"Germany\"}</td>\n",
       "      <td>{\"/m/07s9rl0\": \"Drama\"}</td>\n",
       "    </tr>\n",
       "  </tbody>\n",
       "</table>\n",
       "</div>"
      ],
      "text/plain": [
       "   Wikipedia_movie_ID Freebase_movie_ID  \\\n",
       "0              975900         /m/03vyhn   \n",
       "1             3196793         /m/08yl5d   \n",
       "2            28463795        /m/0crgdbh   \n",
       "3             9363483        /m/0285_cd   \n",
       "4              261236         /m/01mrr1   \n",
       "\n",
       "                                              Movie_name Movie_release_date  \\\n",
       "0                                         Ghosts of Mars         2001-08-24   \n",
       "1  Getting Away with Murder: The JonBenét Ramsey Mystery         2000-02-16   \n",
       "2                                            Brun bitter               1988   \n",
       "3                                       White Of The Eye               1987   \n",
       "4                                      A Woman in Flames               1983   \n",
       "\n",
       "   Movie_box_office_revenue  Movie_runtime  \\\n",
       "0                14010832.0           98.0   \n",
       "1                       NaN           95.0   \n",
       "2                       NaN           83.0   \n",
       "3                       NaN          110.0   \n",
       "4                       NaN          106.0   \n",
       "\n",
       "                      Movie_languages  \\\n",
       "0  {\"/m/02h40lc\": \"English Language\"}   \n",
       "1  {\"/m/02h40lc\": \"English Language\"}   \n",
       "2  {\"/m/05f_3\": \"Norwegian Language\"}   \n",
       "3  {\"/m/02h40lc\": \"English Language\"}   \n",
       "4   {\"/m/04306rv\": \"German Language\"}   \n",
       "\n",
       "                             Movie_countries  \\\n",
       "0  {\"/m/09c7w0\": \"United States of America\"}   \n",
       "1  {\"/m/09c7w0\": \"United States of America\"}   \n",
       "2                     {\"/m/05b4w\": \"Norway\"}   \n",
       "3             {\"/m/07ssc\": \"United Kingdom\"}   \n",
       "4                    {\"/m/0345h\": \"Germany\"}   \n",
       "\n",
       "                                                                                                                                                                                 Movie_genres  \n",
       "0  {\"/m/01jfsb\": \"Thriller\", \"/m/06n90\": \"Science Fiction\", \"/m/03npn\": \"Horror\", \"/m/03k9fj\": \"Adventure\", \"/m/0fdjb\": \"Supernatural\", \"/m/02kdv5l\": \"Action\", \"/m/09zvmj\": \"Space western\"}  \n",
       "1                                                                              {\"/m/02n4kr\": \"Mystery\", \"/m/03bxz7\": \"Biographical film\", \"/m/07s9rl0\": \"Drama\", \"/m/0hj3n01\": \"Crime Drama\"}  \n",
       "2                                                                                                                                        {\"/m/0lsxr\": \"Crime Fiction\", \"/m/07s9rl0\": \"Drama\"}  \n",
       "3                                                                                            {\"/m/01jfsb\": \"Thriller\", \"/m/0glj9q\": \"Erotic thriller\", \"/m/09blyk\": \"Psychological thriller\"}  \n",
       "4                                                                                                                                                                     {\"/m/07s9rl0\": \"Drama\"}  "
      ]
     },
     "execution_count": 8,
     "metadata": {},
     "output_type": "execute_result"
    }
   ],
   "source": [
    "#Load Data\n",
    "meta_data_df = pd.read_csv(\"./MovieSummaries/movie.metadata.tsv\", \n",
    "                           sep='\\t',\n",
    "                           header=None,\n",
    "                           names = [ 'Wikipedia_movie_ID',\n",
    "                                    'Freebase_movie_ID',\n",
    "                                    'Movie_name',\n",
    "                                    'Movie_release_date',\n",
    "                                    'Movie_box_office_revenue',\n",
    "                                    'Movie_runtime',\n",
    "                                    'Movie_languages',\n",
    "                                    'Movie_countries',\n",
    "                                    'Movie_genres'])\n",
    "meta_data_df.head()"
   ]
  },
  {
   "cell_type": "code",
   "execution_count": 11,
   "metadata": {},
   "outputs": [
    {
     "data": {
      "text/html": [
       "<div>\n",
       "<style scoped>\n",
       "    .dataframe tbody tr th:only-of-type {\n",
       "        vertical-align: middle;\n",
       "    }\n",
       "\n",
       "    .dataframe tbody tr th {\n",
       "        vertical-align: top;\n",
       "    }\n",
       "\n",
       "    .dataframe thead th {\n",
       "        text-align: right;\n",
       "    }\n",
       "</style>\n",
       "<table border=\"1\" class=\"dataframe\">\n",
       "  <thead>\n",
       "    <tr style=\"text-align: right;\">\n",
       "      <th></th>\n",
       "      <th>Wikipedia_movie_ID</th>\n",
       "      <th>plot</th>\n",
       "    </tr>\n",
       "  </thead>\n",
       "  <tbody>\n",
       "    <tr>\n",
       "      <th>0</th>\n",
       "      <td>23890098</td>\n",
       "      <td>Shlykov, a hard-working taxi driver and Lyosha, a saxophonist, develop a bizarre love-hate relationship, and despite their prejudices, realize they aren't so different after all.</td>\n",
       "    </tr>\n",
       "    <tr>\n",
       "      <th>1</th>\n",
       "      <td>31186339</td>\n",
       "      <td>The nation of Panem consists of a wealthy Capitol and twelve poorer districts. As punishment for a past rebellion, each district must provide a boy and girl  between the ages of 12 and 18 selected by lottery  for the annual Hunger Games. The tributes must fight to the death in an arena; the sole...</td>\n",
       "    </tr>\n",
       "    <tr>\n",
       "      <th>2</th>\n",
       "      <td>20663735</td>\n",
       "      <td>Poovalli Induchoodan  is sentenced for six years prison life for murdering his classmate. Induchoodan, the only son of Justice Maranchery Karunakara Menon  was framed in the case by Manapally Madhavan Nambiar  and his crony DYSP Sankaranarayanan  to take revenge on idealist judge Menon who had e...</td>\n",
       "    </tr>\n",
       "    <tr>\n",
       "      <th>3</th>\n",
       "      <td>2231378</td>\n",
       "      <td>The Lemon Drop Kid , a New York City swindler, is illegally touting horses at a Florida racetrack. After several successful hustles, the Kid comes across a beautiful, but gullible, woman intending to bet a lot of money. The Kid convinces her to switch her bet, employing a prefabricated con. Unfo...</td>\n",
       "    </tr>\n",
       "    <tr>\n",
       "      <th>4</th>\n",
       "      <td>595909</td>\n",
       "      <td>Seventh-day Adventist Church pastor Michael Chamberlain, his wife Lindy, their two sons, and their nine-week-old daughter Azaria are on a camping holiday in the Outback. With the baby sleeping in their tent, the family is enjoying a barbecue with their fellow campers when a cry is heard. Lindy r...</td>\n",
       "    </tr>\n",
       "  </tbody>\n",
       "</table>\n",
       "</div>"
      ],
      "text/plain": [
       "   Wikipedia_movie_ID  \\\n",
       "0            23890098   \n",
       "1            31186339   \n",
       "2            20663735   \n",
       "3             2231378   \n",
       "4              595909   \n",
       "\n",
       "                                                                                                                                                                                                                                                                                                          plot  \n",
       "0                                                                                                                           Shlykov, a hard-working taxi driver and Lyosha, a saxophonist, develop a bizarre love-hate relationship, and despite their prejudices, realize they aren't so different after all.  \n",
       "1  The nation of Panem consists of a wealthy Capitol and twelve poorer districts. As punishment for a past rebellion, each district must provide a boy and girl  between the ages of 12 and 18 selected by lottery  for the annual Hunger Games. The tributes must fight to the death in an arena; the sole...  \n",
       "2  Poovalli Induchoodan  is sentenced for six years prison life for murdering his classmate. Induchoodan, the only son of Justice Maranchery Karunakara Menon  was framed in the case by Manapally Madhavan Nambiar  and his crony DYSP Sankaranarayanan  to take revenge on idealist judge Menon who had e...  \n",
       "3  The Lemon Drop Kid , a New York City swindler, is illegally touting horses at a Florida racetrack. After several successful hustles, the Kid comes across a beautiful, but gullible, woman intending to bet a lot of money. The Kid convinces her to switch her bet, employing a prefabricated con. Unfo...  \n",
       "4  Seventh-day Adventist Church pastor Michael Chamberlain, his wife Lindy, their two sons, and their nine-week-old daughter Azaria are on a camping holiday in the Outback. With the baby sleeping in their tent, the family is enjoying a barbecue with their fellow campers when a cry is heard. Lindy r...  "
      ]
     },
     "execution_count": 11,
     "metadata": {},
     "output_type": "execute_result"
    }
   ],
   "source": [
    "movie_plot_df = pd.read_csv(\"./MovieSummaries/plot_summaries.txt\",\n",
    "                            sep='\\t',\n",
    "                            header=None,\n",
    "                           names = ['Wikipedia_movie_ID','plot'])\n",
    "movie_plot_df.head()"
   ]
  },
  {
   "cell_type": "code",
   "execution_count": 15,
   "metadata": {},
   "outputs": [
    {
     "data": {
      "text/html": [
       "<div>\n",
       "<style scoped>\n",
       "    .dataframe tbody tr th:only-of-type {\n",
       "        vertical-align: middle;\n",
       "    }\n",
       "\n",
       "    .dataframe tbody tr th {\n",
       "        vertical-align: top;\n",
       "    }\n",
       "\n",
       "    .dataframe thead th {\n",
       "        text-align: right;\n",
       "    }\n",
       "</style>\n",
       "<table border=\"1\" class=\"dataframe\">\n",
       "  <thead>\n",
       "    <tr style=\"text-align: right;\">\n",
       "      <th></th>\n",
       "      <th>Wikipedia_movie_ID</th>\n",
       "      <th>Movie_genres</th>\n",
       "      <th>plot</th>\n",
       "    </tr>\n",
       "  </thead>\n",
       "  <tbody>\n",
       "    <tr>\n",
       "      <th>0</th>\n",
       "      <td>975900</td>\n",
       "      <td>{\"/m/01jfsb\": \"Thriller\", \"/m/06n90\": \"Science Fiction\", \"/m/03npn\": \"Horror\", \"/m/03k9fj\": \"Adventure\", \"/m/0fdjb\": \"Supernatural\", \"/m/02kdv5l\": \"Action\", \"/m/09zvmj\": \"Space western\"}</td>\n",
       "      <td>Set in the second half of the 22nd century, the film depicts Mars as a planet that has been 84% terraformed, allowing humans to walk on the surface without wearing pressure suits. The Martian society has become largely matriarchal, with women in most positions of authority. The story concerns a ...</td>\n",
       "    </tr>\n",
       "    <tr>\n",
       "      <th>1</th>\n",
       "      <td>9363483</td>\n",
       "      <td>{\"/m/01jfsb\": \"Thriller\", \"/m/0glj9q\": \"Erotic thriller\", \"/m/09blyk\": \"Psychological thriller\"}</td>\n",
       "      <td>A series of murders of rich young women throughout Arizona bear distinctive signatures of a serial killer. Clues lead Detective Charles Mendoza to visit Paul White, a sound expert installing hi-fi systems in wealthy people's homes. His special talent is to make a noise which echoes through the a...</td>\n",
       "    </tr>\n",
       "    <tr>\n",
       "      <th>2</th>\n",
       "      <td>261236</td>\n",
       "      <td>{\"/m/07s9rl0\": \"Drama\"}</td>\n",
       "      <td>Eva, an upper class housewife, becomes frustrated and leaves her arrogant husband. She is drawn to the idea of becoming a call girl. With the aid of a prostitute named Yvonne, Eva learns the basics and then they both set out looking for Johns together. She meets a charming man who she falls in l...</td>\n",
       "    </tr>\n",
       "    <tr>\n",
       "      <th>3</th>\n",
       "      <td>18998739</td>\n",
       "      <td>{\"/m/0hqxf\": \"Family Film\", \"/m/01hmnh\": \"Fantasy\", \"/m/03k9fj\": \"Adventure\", \"/m/03q4nz\": \"World cinema\"}</td>\n",
       "      <td>Every hundred years, the evil Morgana  returns to claim Fingall's talisman from the wizard Merlin, with which she intends to destroy the world. For the last fourteen hundred years she has failed... now she intends to conquer all. Young Ben Clark  moves with his parents to a new town, where he be...</td>\n",
       "    </tr>\n",
       "    <tr>\n",
       "      <th>4</th>\n",
       "      <td>6631279</td>\n",
       "      <td>{\"/m/06cvj\": \"Romantic comedy\", \"/m/0hj3n0w\": \"Ensemble Film\", \"/m/01t_vv\": \"Comedy-drama\", \"/m/07s9rl0\": \"Drama\", \"/m/01z4y\": \"Comedy\", \"/m/068d7h\": \"Romantic drama\", \"/m/02l7c8\": \"Romance Film\"}</td>\n",
       "      <td>Adam, a San Francisco-based artist who works as a cab driver on the side, is having a hard time committing to his girlfriend, Nina. She wants to take their relationship to the next level, but he hasn't really gotten over his ex-girlfriend, Kate, who left him for another woman and is reluctant to...</td>\n",
       "    </tr>\n",
       "  </tbody>\n",
       "</table>\n",
       "</div>"
      ],
      "text/plain": [
       "   Wikipedia_movie_ID  \\\n",
       "0              975900   \n",
       "1             9363483   \n",
       "2              261236   \n",
       "3            18998739   \n",
       "4             6631279   \n",
       "\n",
       "                                                                                                                                                                                           Movie_genres  \\\n",
       "0            {\"/m/01jfsb\": \"Thriller\", \"/m/06n90\": \"Science Fiction\", \"/m/03npn\": \"Horror\", \"/m/03k9fj\": \"Adventure\", \"/m/0fdjb\": \"Supernatural\", \"/m/02kdv5l\": \"Action\", \"/m/09zvmj\": \"Space western\"}   \n",
       "1                                                                                                      {\"/m/01jfsb\": \"Thriller\", \"/m/0glj9q\": \"Erotic thriller\", \"/m/09blyk\": \"Psychological thriller\"}   \n",
       "2                                                                                                                                                                               {\"/m/07s9rl0\": \"Drama\"}   \n",
       "3                                                                                            {\"/m/0hqxf\": \"Family Film\", \"/m/01hmnh\": \"Fantasy\", \"/m/03k9fj\": \"Adventure\", \"/m/03q4nz\": \"World cinema\"}   \n",
       "4  {\"/m/06cvj\": \"Romantic comedy\", \"/m/0hj3n0w\": \"Ensemble Film\", \"/m/01t_vv\": \"Comedy-drama\", \"/m/07s9rl0\": \"Drama\", \"/m/01z4y\": \"Comedy\", \"/m/068d7h\": \"Romantic drama\", \"/m/02l7c8\": \"Romance Film\"}   \n",
       "\n",
       "                                                                                                                                                                                                                                                                                                          plot  \n",
       "0  Set in the second half of the 22nd century, the film depicts Mars as a planet that has been 84% terraformed, allowing humans to walk on the surface without wearing pressure suits. The Martian society has become largely matriarchal, with women in most positions of authority. The story concerns a ...  \n",
       "1  A series of murders of rich young women throughout Arizona bear distinctive signatures of a serial killer. Clues lead Detective Charles Mendoza to visit Paul White, a sound expert installing hi-fi systems in wealthy people's homes. His special talent is to make a noise which echoes through the a...  \n",
       "2  Eva, an upper class housewife, becomes frustrated and leaves her arrogant husband. She is drawn to the idea of becoming a call girl. With the aid of a prostitute named Yvonne, Eva learns the basics and then they both set out looking for Johns together. She meets a charming man who she falls in l...  \n",
       "3  Every hundred years, the evil Morgana  returns to claim Fingall's talisman from the wizard Merlin, with which she intends to destroy the world. For the last fourteen hundred years she has failed... now she intends to conquer all. Young Ben Clark  moves with his parents to a new town, where he be...  \n",
       "4  Adam, a San Francisco-based artist who works as a cab driver on the side, is having a hard time committing to his girlfriend, Nina. She wants to take their relationship to the next level, but he hasn't really gotten over his ex-girlfriend, Kate, who left him for another woman and is reluctant to...  "
      ]
     },
     "execution_count": 15,
     "metadata": {},
     "output_type": "execute_result"
    }
   ],
   "source": [
    "movie_plot_genre_df = pd.merge(meta_data_df,movie_plot_df,\n",
    "                               on='Wikipedia_movie_ID',how='inner')\n",
    "movie_plot_genre_df = movie_plot_genre_df[['Wikipedia_movie_ID',\n",
    "                                          'Movie_genres',\n",
    "                                          'plot']]\n",
    "movie_plot_genre_df.head()"
   ]
  },
  {
   "cell_type": "code",
   "execution_count": 17,
   "metadata": {},
   "outputs": [
    {
     "data": {
      "text/plain": [
       "'{\"/m/01jfsb\": \"Thriller\", \"/m/06n90\": \"Science Fiction\", \"/m/03npn\": \"Horror\", \"/m/03k9fj\": \"Adventure\", \"/m/0fdjb\": \"Supernatural\", \"/m/02kdv5l\": \"Action\", \"/m/09zvmj\": \"Space western\"}'"
      ]
     },
     "execution_count": 17,
     "metadata": {},
     "output_type": "execute_result"
    }
   ],
   "source": [
    "# Genre is in dictionary format\n",
    "movie_plot_genre_df['Movie_genres'][0]"
   ]
  },
  {
   "cell_type": "code",
   "execution_count": 18,
   "metadata": {},
   "outputs": [
    {
     "data": {
      "text/plain": [
       "dict"
      ]
     },
     "execution_count": 18,
     "metadata": {},
     "output_type": "execute_result"
    }
   ],
   "source": [
    "#Let's confirm the type\n",
    "type(json.loads(movie_plot_genre_df['Movie_genres'][0]))"
   ]
  },
  {
   "cell_type": "code",
   "execution_count": 20,
   "metadata": {},
   "outputs": [
    {
     "data": {
      "text/plain": [
       "dict_values(['Thriller', 'Science Fiction', 'Horror', 'Adventure', 'Supernatural', 'Action', 'Space western'])"
      ]
     },
     "execution_count": 20,
     "metadata": {},
     "output_type": "execute_result"
    }
   ],
   "source": [
    "#Read genre in dict format.\n",
    "json.loads(movie_plot_genre_df['Movie_genres'][0]).values()"
   ]
  },
  {
   "cell_type": "code",
   "execution_count": 25,
   "metadata": {},
   "outputs": [],
   "source": [
    "#Change the data to List format \n",
    "genres = []\n",
    "\n",
    "for i in movie_plot_genre_df['Movie_genres']:\n",
    "    genres.append(list(json.loads(i).values()))\n",
    "    \n",
    "movie_plot_genre_df['genre'] = genres"
   ]
  },
  {
   "cell_type": "code",
   "execution_count": 48,
   "metadata": {},
   "outputs": [
    {
     "data": {
      "text/plain": [
       "Wikipedia_movie_ID    411\n",
       "Movie_genres          411\n",
       "plot                  411\n",
       "genre                 411\n",
       "dtype: int64"
      ]
     },
     "execution_count": 48,
     "metadata": {},
     "output_type": "execute_result"
    }
   ],
   "source": [
    "movie_plot_genre_df[(movie_plot_genre_df['genre'].str.len()==0)].count()"
   ]
  },
  {
   "cell_type": "code",
   "execution_count": 37,
   "metadata": {},
   "outputs": [],
   "source": [
    "# Remove movies that don't have any genre associated with them\n",
    "movie_df = movie_plot_genre_df[~(movie_plot_genre_df['genre'].str.len()==0)]"
   ]
  },
  {
   "cell_type": "code",
   "execution_count": 38,
   "metadata": {},
   "outputs": [
    {
     "data": {
      "text/plain": [
       "((41793, 4), (42204, 4))"
      ]
     },
     "execution_count": 38,
     "metadata": {},
     "output_type": "execute_result"
    }
   ],
   "source": [
    "movie_df.shape, movie_plot_genre_df.shape"
   ]
  },
  {
   "cell_type": "code",
   "execution_count": 49,
   "metadata": {},
   "outputs": [
    {
     "data": {
      "text/plain": [
       "363"
      ]
     },
     "execution_count": 49,
     "metadata": {},
     "output_type": "execute_result"
    }
   ],
   "source": [
    "# Make a list of movie genres present in the dataset\n",
    "all_genres = sum(genres,[])\n",
    "len(set(all_genres))\n",
    "# The major difference is that sets, unlike lists or \n",
    "# tuples, cannot have multiple occurrences of \n",
    "# the same element and store unordered values.May 29, 2018"
   ]
  },
  {
   "cell_type": "code",
   "execution_count": 62,
   "metadata": {},
   "outputs": [],
   "source": [
    "# Use nltk.FreqDis() to find frequency of each  genre type\n",
    "all_genres = nltk.FreqDist(all_genres)\n",
    "all_genres_df = pd.DataFrame({'Genre':list(all_genres.keys()),\n",
    "                              'Frequency':list(all_genres.values())})"
   ]
  },
  {
   "cell_type": "code",
   "execution_count": 72,
   "metadata": {},
   "outputs": [
    {
     "data": {
      "image/png": "[encoded data removed]",
      "text/plain": [
       "<Figure size 864x1080 with 1 Axes>"
      ]
     },
     "metadata": {
      "needs_background": "light"
     },
     "output_type": "display_data"
    }
   ],
   "source": [
    "# Let's visulaize the distribution for top 50 genre occurences \n",
    "g = all_genres_df.nlargest(columns=\"Frequency\", n =50)\n",
    "plt.figure(figsize=(12,15))\n",
    "ax = sns.barplot(data=g,x=\"Frequency\", y=\"Genre\")\n",
    "ax.set(ylabel = 'Frequency')\n",
    "plt.show()"
   ]
  },
  {
   "cell_type": "code",
   "execution_count": 73,
   "metadata": {},
   "outputs": [],
   "source": [
    "#Clean the plot text\n",
    "def clean_text(text):\n",
    "#     Clean backslash - apostrophe\n",
    "    text = re.sub(\"\\'\",\"\",text)\n",
    "#     remove everything except alphabets\n",
    "    text = re.sub(\"[^a-zA-Z]\",\" \",text)\n",
    "#     remove whitespaces\n",
    "    text = ' '.join(text.split())\n",
    "#     convert text to lowercase\n",
    "    text = text.lower()\n",
    "    \n",
    "    return text"
   ]
  },
  {
   "cell_type": "code",
   "execution_count": 75,
   "metadata": {},
   "outputs": [
    {
     "name": "stderr",
     "output_type": "stream",
     "text": [
      "/anaconda3/lib/python3.7/site-packages/ipykernel_launcher.py:1: SettingWithCopyWarning: \n",
      "A value is trying to be set on a copy of a slice from a DataFrame.\n",
      "Try using .loc[row_indexer,col_indexer] = value instead\n",
      "\n",
      "See the caveats in the documentation: http://pandas.pydata.org/pandas-docs/stable/indexing.html#indexing-view-versus-copy\n",
      "  \"\"\"Entry point for launching an IPython kernel.\n"
     ]
    },
    {
     "data": {
      "text/html": [
       "<div>\n",
       "<style scoped>\n",
       "    .dataframe tbody tr th:only-of-type {\n",
       "        vertical-align: middle;\n",
       "    }\n",
       "\n",
       "    .dataframe tbody tr th {\n",
       "        vertical-align: top;\n",
       "    }\n",
       "\n",
       "    .dataframe thead th {\n",
       "        text-align: right;\n",
       "    }\n",
       "</style>\n",
       "<table border=\"1\" class=\"dataframe\">\n",
       "  <thead>\n",
       "    <tr style=\"text-align: right;\">\n",
       "      <th></th>\n",
       "      <th>plot</th>\n",
       "      <th>cleaned_plot</th>\n",
       "    </tr>\n",
       "  </thead>\n",
       "  <tbody>\n",
       "    <tr>\n",
       "      <th>0</th>\n",
       "      <td>Set in the second half of the 22nd century, the film depicts Mars as a planet that has been 84% terraformed, allowing humans to walk on the surface without wearing pressure suits. The Martian society has become largely matriarchal, with women in most positions of authority. The story concerns a ...</td>\n",
       "      <td>set in the second half of the nd century the film depicts mars as a planet that has been terraformed allowing humans to walk on the surface without wearing pressure suits the martian society has become largely matriarchal with women in most positions of authority the story concerns a police offi...</td>\n",
       "    </tr>\n",
       "    <tr>\n",
       "      <th>1</th>\n",
       "      <td>A series of murders of rich young women throughout Arizona bear distinctive signatures of a serial killer. Clues lead Detective Charles Mendoza to visit Paul White, a sound expert installing hi-fi systems in wealthy people's homes. His special talent is to make a noise which echoes through the a...</td>\n",
       "      <td>a series of murders of rich young women throughout arizona bear distinctive signatures of a serial killer clues lead detective charles mendoza to visit paul white a sound expert installing hi fi systems in wealthy peoples homes his special talent is to make a noise which echoes through the air c...</td>\n",
       "    </tr>\n",
       "    <tr>\n",
       "      <th>2</th>\n",
       "      <td>Eva, an upper class housewife, becomes frustrated and leaves her arrogant husband. She is drawn to the idea of becoming a call girl. With the aid of a prostitute named Yvonne, Eva learns the basics and then they both set out looking for Johns together. She meets a charming man who she falls in l...</td>\n",
       "      <td>eva an upper class housewife becomes frustrated and leaves her arrogant husband she is drawn to the idea of becoming a call girl with the aid of a prostitute named yvonne eva learns the basics and then they both set out looking for johns together she meets a charming man who she falls in love wi...</td>\n",
       "    </tr>\n",
       "    <tr>\n",
       "      <th>3</th>\n",
       "      <td>Every hundred years, the evil Morgana  returns to claim Fingall's talisman from the wizard Merlin, with which she intends to destroy the world. For the last fourteen hundred years she has failed... now she intends to conquer all. Young Ben Clark  moves with his parents to a new town, where he be...</td>\n",
       "      <td>every hundred years the evil morgana returns to claim fingalls talisman from the wizard merlin with which she intends to destroy the world for the last fourteen hundred years she has failed now she intends to conquer all young ben clark moves with his parents to a new town where he befriends his...</td>\n",
       "    </tr>\n",
       "    <tr>\n",
       "      <th>4</th>\n",
       "      <td>Adam, a San Francisco-based artist who works as a cab driver on the side, is having a hard time committing to his girlfriend, Nina. She wants to take their relationship to the next level, but he hasn't really gotten over his ex-girlfriend, Kate, who left him for another woman and is reluctant to...</td>\n",
       "      <td>adam a san francisco based artist who works as a cab driver on the side is having a hard time committing to his girlfriend nina she wants to take their relationship to the next level but he hasnt really gotten over his ex girlfriend kate who left him for another woman and is reluctant to move fo...</td>\n",
       "    </tr>\n",
       "  </tbody>\n",
       "</table>\n",
       "</div>"
      ],
      "text/plain": [
       "                                                                                                                                                                                                                                                                                                          plot  \\\n",
       "0  Set in the second half of the 22nd century, the film depicts Mars as a planet that has been 84% terraformed, allowing humans to walk on the surface without wearing pressure suits. The Martian society has become largely matriarchal, with women in most positions of authority. The story concerns a ...   \n",
       "1  A series of murders of rich young women throughout Arizona bear distinctive signatures of a serial killer. Clues lead Detective Charles Mendoza to visit Paul White, a sound expert installing hi-fi systems in wealthy people's homes. His special talent is to make a noise which echoes through the a...   \n",
       "2  Eva, an upper class housewife, becomes frustrated and leaves her arrogant husband. She is drawn to the idea of becoming a call girl. With the aid of a prostitute named Yvonne, Eva learns the basics and then they both set out looking for Johns together. She meets a charming man who she falls in l...   \n",
       "3  Every hundred years, the evil Morgana  returns to claim Fingall's talisman from the wizard Merlin, with which she intends to destroy the world. For the last fourteen hundred years she has failed... now she intends to conquer all. Young Ben Clark  moves with his parents to a new town, where he be...   \n",
       "4  Adam, a San Francisco-based artist who works as a cab driver on the side, is having a hard time committing to his girlfriend, Nina. She wants to take their relationship to the next level, but he hasn't really gotten over his ex-girlfriend, Kate, who left him for another woman and is reluctant to...   \n",
       "\n",
       "                                                                                                                                                                                                                                                                                                  cleaned_plot  \n",
       "0  set in the second half of the nd century the film depicts mars as a planet that has been terraformed allowing humans to walk on the surface without wearing pressure suits the martian society has become largely matriarchal with women in most positions of authority the story concerns a police offi...  \n",
       "1  a series of murders of rich young women throughout arizona bear distinctive signatures of a serial killer clues lead detective charles mendoza to visit paul white a sound expert installing hi fi systems in wealthy peoples homes his special talent is to make a noise which echoes through the air c...  \n",
       "2  eva an upper class housewife becomes frustrated and leaves her arrogant husband she is drawn to the idea of becoming a call girl with the aid of a prostitute named yvonne eva learns the basics and then they both set out looking for johns together she meets a charming man who she falls in love wi...  \n",
       "3  every hundred years the evil morgana returns to claim fingalls talisman from the wizard merlin with which she intends to destroy the world for the last fourteen hundred years she has failed now she intends to conquer all young ben clark moves with his parents to a new town where he befriends his...  \n",
       "4  adam a san francisco based artist who works as a cab driver on the side is having a hard time committing to his girlfriend nina she wants to take their relationship to the next level but he hasnt really gotten over his ex girlfriend kate who left him for another woman and is reluctant to move fo...  "
      ]
     },
     "execution_count": 75,
     "metadata": {},
     "output_type": "execute_result"
    }
   ],
   "source": [
    "movie_df['cleaned_plot'] = movie_df['plot'].apply(lambda x:clean_text(x))\n",
    "movie_df[['plot','cleaned_plot']].head()"
   ]
  },
  {
   "cell_type": "code",
   "execution_count": 86,
   "metadata": {},
   "outputs": [],
   "source": [
    "def freq_words(x, terms=30):\n",
    "    all_words = ' '.join([text for text in x])\n",
    "    all_words = all_words.split()\n",
    "    word_dist = nltk.FreqDist(all_words)\n",
    "    words_df = pd.DataFrame({'word':list(word_dist.keys()),\n",
    "                             'frequency': list(word_dist.values())})\n",
    "    \n",
    "    #Select top terms frequent words\n",
    "    d = words_df.nlargest(columns='frequency',n=terms)\n",
    "    \n",
    "    #Visualize the words and frequencies \n",
    "    plt.figure(figsize=(12,15))\n",
    "    ax = sns.barplot(data=d, x=\"frequency\",y='word')\n",
    "    ax.set(ylabel='Word')\n",
    "    plt.show()"
   ]
  },
  {
   "cell_type": "code",
   "execution_count": 89,
   "metadata": {
    "scrolled": true
   },
   "outputs": [
    {
     "data": {
      "image/png": "[encoded data removed]",
      "text/plain": [
       "<Figure size 864x1080 with 1 Axes>"
      ]
     },
     "metadata": {
      "needs_background": "light"
     },
     "output_type": "display_data"
    }
   ],
   "source": [
    "freq_words(movie_df['cleaned_plot'],50)"
   ]
  },
  {
   "cell_type": "code",
   "execution_count": 101,
   "metadata": {},
   "outputs": [
    {
     "name": "stdout",
     "output_type": "stream",
     "text": [
      "[nltk_data] Downloading package stopwords to\n",
      "[nltk_data]     /Users/sunita.dwivedi/nltk_data...\n",
      "[nltk_data]   Unzipping corpora/stopwords.zip.\n"
     ]
    },
    {
     "data": {
      "text/plain": [
       "True"
      ]
     },
     "execution_count": 101,
     "metadata": {},
     "output_type": "execute_result"
    }
   ],
   "source": [
    "nltk.download('stopwords')"
   ]
  },
  {
   "cell_type": "code",
   "execution_count": 104,
   "metadata": {},
   "outputs": [
    {
     "name": "stderr",
     "output_type": "stream",
     "text": [
      "/anaconda3/lib/python3.7/site-packages/ipykernel_launcher.py:11: SettingWithCopyWarning: \n",
      "A value is trying to be set on a copy of a slice from a DataFrame.\n",
      "Try using .loc[row_indexer,col_indexer] = value instead\n",
      "\n",
      "See the caveats in the documentation: http://pandas.pydata.org/pandas-docs/stable/indexing.html#indexing-view-versus-copy\n",
      "  # This is added back by InteractiveShellApp.init_path()\n"
     ]
    }
   ],
   "source": [
    "# Stopwords carry almost no meaning hence should be removed inorder to\n",
    "# reduce noice.\n",
    "from nltk.corpus import stopwords\n",
    "stop_words = set(stopwords.words('english'))\n",
    "\n",
    "def remove_stopwords(text):\n",
    "    no_stopword_text = [w for w in text.split() if not w in stop_words]\n",
    "    return ' '.join(no_stopword_text)\n",
    "\n",
    "movie_df['cleaned_plot'] = movie_df['cleaned_plot'].apply(\n",
    "    lambda x:remove_stopwords(x))"
   ]
  },
  {
   "cell_type": "code",
   "execution_count": 106,
   "metadata": {},
   "outputs": [
    {
     "data": {
      "image/png": "[encoded data removed]",
      "text/plain": [
       "<Figure size 864x1080 with 1 Axes>"
      ]
     },
     "metadata": {
      "needs_background": "light"
     },
     "output_type": "display_data"
    }
   ],
   "source": [
    "freq_words(movie_df['cleaned_plot'],50)"
   ]
  },
  {
   "cell_type": "code",
   "execution_count": 108,
   "metadata": {},
   "outputs": [],
   "source": [
    "#Using binary relevance approach to genre we will one hot encode the \n",
    "# target variables \n",
    "from sklearn.preprocessing import MultiLabelBinarizer\n",
    "\n",
    "multilabel_binarizer = MultiLabelBinarizer()\n",
    "multilabel_binarizer.fit(movie_df['genre'])\n",
    "# transform traget variable\n",
    "y = multilabel_binarizer.transform(movie_df['genre'])"
   ]
  },
  {
   "cell_type": "code",
   "execution_count": 110,
   "metadata": {},
   "outputs": [
    {
     "data": {
      "text/plain": [
       "array([[0, 0, 1, ..., 0, 0, 0],\n",
       "       [0, 0, 0, ..., 0, 0, 0],\n",
       "       [0, 0, 0, ..., 0, 0, 0],\n",
       "       ...,\n",
       "       [0, 0, 0, ..., 0, 0, 0],\n",
       "       [0, 0, 0, ..., 0, 0, 0],\n",
       "       [0, 0, 0, ..., 0, 0, 0]])"
      ]
     },
     "execution_count": 110,
     "metadata": {},
     "output_type": "execute_result"
    }
   ],
   "source": []
  },
  {
   "cell_type": "code",
   "execution_count": 113,
   "metadata": {},
   "outputs": [],
   "source": [
    "# split the data into traning and validation set\n",
    "xtrain, xval, ytrain, yval = train_test_split(movie_df['cleaned_plot'],y,\n",
    "                                             test_size=0.2, random_state=9)"
   ]
  },
  {
   "cell_type": "code",
   "execution_count": 115,
   "metadata": {},
   "outputs": [],
   "source": [
    "# Extract features from cleaned version of te movie plots.\n",
    "tfidf_vectorizer = TfidfVectorizer(max_df=0.8, max_features=10000)\n",
    "xtrain_tfidf = tfidf_vectorizer.fit_transform(xtrain)\n",
    "val_tfidf = tfidf_vectorizer.transform(xval)\n",
    "# 10000 most frequent words as features."
   ]
  },
  {
   "cell_type": "code",
   "execution_count": 116,
   "metadata": {},
   "outputs": [],
   "source": [
    "# We will have to build a model for every   one-hot encoded traget variable\n",
    "# as we are using the approach of binary relevance\n",
    "# Logistic regression models train relatively fast on limited computational\n",
    "#  power\n",
    "from sklearn.linear_model import LogisticRegression\n",
    "#Binar Relevance\n",
    "from sklearn.multiclass import OneVsRestClassifier\n",
    "\n",
    "# Performance metric\n",
    "from sklearn.metrics import f1_score"
   ]
  },
  {
   "cell_type": "code",
   "execution_count": 117,
   "metadata": {},
   "outputs": [],
   "source": [
    "lr = LogisticRegression()\n",
    "clf = OneVsRestClassifier(lr)"
   ]
  },
  {
   "cell_type": "code",
   "execution_count": 118,
   "metadata": {},
   "outputs": [
    {
     "name": "stderr",
     "output_type": "stream",
     "text": [
      "/anaconda3/lib/python3.7/site-packages/sklearn/multiclass.py:76: UserWarning: Label not 202 is present in all training examples.\n",
      "  str(classes[c]))\n",
      "/anaconda3/lib/python3.7/site-packages/sklearn/multiclass.py:76: UserWarning: Label not 241 is present in all training examples.\n",
      "  str(classes[c]))\n",
      "/anaconda3/lib/python3.7/site-packages/sklearn/multiclass.py:76: UserWarning: Label not 245 is present in all training examples.\n",
      "  str(classes[c]))\n",
      "/anaconda3/lib/python3.7/site-packages/sklearn/multiclass.py:76: UserWarning: Label not 361 is present in all training examples.\n",
      "  str(classes[c]))\n"
     ]
    },
    {
     "data": {
      "text/plain": [
       "OneVsRestClassifier(estimator=LogisticRegression(C=1.0, class_weight=None, dual=False, fit_intercept=True,\n",
       "          intercept_scaling=1, max_iter=100, multi_class='ovr', n_jobs=1,\n",
       "          penalty='l2', random_state=None, solver='liblinear', tol=0.0001,\n",
       "          verbose=0, warm_start=False),\n",
       "          n_jobs=1)"
      ]
     },
     "execution_count": 118,
     "metadata": {},
     "output_type": "execute_result"
    }
   ],
   "source": [
    "#fit the model on trained data\n",
    "clf.fit(xtrain_tfidf, ytrain)"
   ]
  },
  {
   "cell_type": "code",
   "execution_count": 121,
   "metadata": {},
   "outputs": [],
   "source": [
    "#Make predictions on validation set\n",
    "y_pred = clf.predict(val_tfidf)"
   ]
  },
  {
   "cell_type": "code",
   "execution_count": 123,
   "metadata": {},
   "outputs": [
    {
     "data": {
      "text/plain": [
       "array([0, 0, 0, 0, 0, 0, 0, 0, 0, 0, 0, 0, 0, 0, 0, 0, 0, 0, 0, 0, 0, 0,\n",
       "       0, 0, 0, 0, 0, 0, 0, 0, 0, 0, 0, 0, 0, 0, 0, 0, 0, 0, 0, 0, 0, 0,\n",
       "       0, 0, 0, 0, 0, 0, 0, 0, 0, 0, 0, 0, 0, 0, 0, 0, 0, 0, 0, 0, 0, 0,\n",
       "       0, 0, 0, 0, 0, 0, 0, 0, 0, 0, 0, 0, 0, 0, 0, 0, 0, 0, 0, 0, 0, 0,\n",
       "       0, 0, 0, 0, 0, 0, 0, 0, 0, 0, 0, 0, 0, 0, 0, 0, 0, 0, 0, 0, 0, 0,\n",
       "       0, 0, 0, 0, 0, 0, 0, 0, 0, 0, 0, 0, 0, 0, 0, 0, 0, 0, 0, 0, 0, 0,\n",
       "       0, 0, 0, 0, 0, 0, 0, 0, 0, 0, 0, 0, 0, 0, 0, 0, 0, 0, 0, 0, 0, 0,\n",
       "       0, 0, 0, 0, 0, 0, 0, 0, 0, 0, 0, 0, 0, 0, 0, 0, 0, 0, 0, 0, 0, 0,\n",
       "       0, 0, 0, 0, 0, 0, 0, 0, 0, 0, 0, 0, 0, 1, 0, 0, 0, 0, 0, 0, 0, 0,\n",
       "       0, 0, 0, 0, 0, 0, 0, 0, 0, 0, 0, 0, 0, 0, 0, 0, 0, 0, 0, 0, 0, 0,\n",
       "       0, 0, 0, 0, 0, 0, 0, 0, 0, 0, 0, 0, 0, 0, 0, 0, 0, 0, 0, 0, 0, 0,\n",
       "       0, 0, 0, 0, 0, 0, 0, 0, 0, 0, 0, 0, 0, 0, 0, 0, 0, 0, 0, 0, 0, 0,\n",
       "       0, 0, 0, 0, 0, 0, 0, 0, 0, 0, 0, 0, 0, 0, 0, 0, 0, 0, 0, 0, 0, 0,\n",
       "       0, 0, 0, 0, 0, 0, 0, 0, 0, 0, 0, 0, 0, 0, 0, 0, 0, 0, 0, 0, 0, 0,\n",
       "       0, 0, 0, 0, 0, 0, 0, 0, 0, 0, 0, 0, 0, 0, 0, 0, 0, 0, 0, 0, 0, 0,\n",
       "       0, 0, 0, 0, 0, 0, 0, 0, 0, 0, 0, 0, 0, 0, 0, 0, 0, 0, 0, 0, 0, 0,\n",
       "       0, 0, 0, 0, 0, 0, 0, 0, 0, 0, 0])"
      ]
     },
     "execution_count": 123,
     "metadata": {},
     "output_type": "execute_result"
    }
   ],
   "source": [
    "y_pred[2]\n",
    "# One hot encoded form of unique genres. Now we need to convert it movie\n",
    "# genre tags"
   ]
  },
  {
   "cell_type": "code",
   "execution_count": 126,
   "metadata": {},
   "outputs": [
    {
     "data": {
      "text/plain": [
       "('Drama', 'Thriller')"
      ]
     },
     "execution_count": 126,
     "metadata": {},
     "output_type": "execute_result"
    }
   ],
   "source": [
    "multilabel_binarizer.inverse_transform(y_pred)[5]"
   ]
  },
  {
   "cell_type": "code",
   "execution_count": 127,
   "metadata": {},
   "outputs": [
    {
     "data": {
      "text/plain": [
       "0.3121888301302721"
      ]
     },
     "execution_count": 127,
     "metadata": {},
     "output_type": "execute_result"
    }
   ],
   "source": [
    "#evaluate performance \n",
    "f1_score(yval, y_pred, average=\"micro\")"
   ]
  },
  {
   "cell_type": "code",
   "execution_count": 129,
   "metadata": {},
   "outputs": [],
   "source": [
    "# The threshold was made based on a threshold value of 0.5 which we can\n",
    "# change.\n",
    "y_pred_prob = clf.predict_proba(val_tfidf)\n",
    "t = 0.3\n",
    "y_pred_new = (y_pred_prob >= t).astype(int)"
   ]
  },
  {
   "cell_type": "code",
   "execution_count": 130,
   "metadata": {},
   "outputs": [
    {
     "data": {
      "text/plain": [
       "0.4342871197835534"
      ]
     },
     "execution_count": 130,
     "metadata": {},
     "output_type": "execute_result"
    }
   ],
   "source": [
    "f1_score(yval,y_pred_new, average=\"micro\")"
   ]
  },
  {
   "cell_type": "code",
   "execution_count": 135,
   "metadata": {},
   "outputs": [],
   "source": [
    "def infer_tags(q):\n",
    "    q = clean_text(q)\n",
    "    q = remove_stopwords(q)\n",
    "    q_vec =  tfidf_vectorizer.transform([q])\n",
    "    q_pred = clf.predict(q_vec)\n",
    "    return multilabel_binarizer.inverse_transform(q_pred)"
   ]
  },
  {
   "cell_type": "code",
   "execution_count": 139,
   "metadata": {},
   "outputs": [
    {
     "name": "stdout",
     "output_type": "stream",
     "text": [
      "\n",
      " Prdecited genre:  [('Comedy', 'Short Film')]\n",
      "Acutal genre:  {\"/m/02hmvc\": \"Short Film\", \"/m/0hqxf\": \"Family Film\", \"/m/01z4y\": \"Comedy\", \"/m/01g6gs\": \"Black-and-white\"} \n",
      "\n",
      "\n",
      " Prdecited genre:  [()]\n",
      "Acutal genre:  {\"/m/0hj3myq\": \"Children's/Family\", \"/m/01zhp\": \"Computer Animation\", \"/m/0hcr\": \"Animation\", \"/m/0bj8m2\": \"Children's\", \"/m/0hj3myc\": \"Children's Fantasy\", \"/m/0hqxf\": \"Family Film\"} \n",
      "\n",
      "\n",
      " Prdecited genre:  [('Horror', 'Mystery', 'Thriller')]\n",
      "Acutal genre:  {\"/m/0g092b\": \"Monster movie\", \"/m/06n90\": \"Science Fiction\", \"/m/0219x_\": \"Indie\"} \n",
      "\n",
      "\n",
      " Prdecited genre:  [()]\n",
      "Acutal genre:  {\"/m/03npn\": \"Horror\"} \n",
      "\n",
      "\n",
      " Prdecited genre:  [('Fantasy',)]\n",
      "Acutal genre:  {\"/m/01jfsb\": \"Thriller\", \"/m/0556j8\": \"Buddy film\", \"/m/03k9fj\": \"Adventure\", \"/m/04xvh5\": \"Costume drama\", \"/m/03btsm8\": \"Action/Adventure\", \"/m/01hmnh\": \"Fantasy\", \"/m/01z4y\": \"Comedy\", \"/m/082gq\": \"War film\", \"/m/0vgkd\": \"Black comedy\", \"/m/06www\": \"Steampunk\"} \n",
      "\n"
     ]
    }
   ],
   "source": [
    "for i in range(5):\n",
    "    k = xval.sample(1).index[0]\n",
    "    print(\"\\n Prdecited genre: \", infer_tags(xval[k])),\n",
    "    print(\"Acutal genre: \", movie_df['Movie_genres'][k], \"\\n\")"
   ]
  },
  {
   "cell_type": "markdown",
   "metadata": {},
   "source": [
    "# Reference\n",
    "https://www.analyticsvidhya.com/blog/2019/04/predicting-movie-genres-nlp-multi-label-classification/"
   ]
  },
  {
   "cell_type": "code",
   "execution_count": null,
   "metadata": {},
   "outputs": [],
   "source": []
  }
 ],
 "metadata": {
  "kernelspec": {
   "display_name": "Python 3",
   "language": "python",
   "name": "python3"
  },
  "language_info": {
   "codemirror_mode": {
    "name": "ipython",
    "version": 3
   },
   "file_extension": ".py",
   "mimetype": "text/x-python",
   "name": "python",
   "nbconvert_exporter": "python",
   "pygments_lexer": "ipython3",
   "version": "3.7.0"
  }
 },
 "nbformat": 4,
 "nbformat_minor": 2
}
